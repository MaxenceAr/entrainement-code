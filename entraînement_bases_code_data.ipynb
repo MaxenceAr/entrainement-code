{
  "nbformat": 4,
  "nbformat_minor": 0,
  "metadata": {
    "colab": {
      "provenance": [],
      "authorship_tag": "ABX9TyOf7MWmXA/QSPNuSJoWWx06",
      "include_colab_link": true
    },
    "kernelspec": {
      "name": "python3",
      "display_name": "Python 3"
    },
    "language_info": {
      "name": "python"
    }
  },
  "cells": [
    {
      "cell_type": "markdown",
      "metadata": {
        "id": "view-in-github",
        "colab_type": "text"
      },
      "source": [
        "<a href=\"https://colab.research.google.com/github/MaxenceAr/entrainement-code/blob/main/entra%C3%AEnement_bases_code_data.ipynb\" target=\"_parent\"><img src=\"https://colab.research.google.com/assets/colab-badge.svg\" alt=\"Open In Colab\"/></a>"
      ]
    },
    {
      "cell_type": "markdown",
      "source": [
        "# Numpy"
      ],
      "metadata": {
        "id": "ourtJvPU5Omh"
      }
    },
    {
      "cell_type": "markdown",
      "source": [
        "Le concept central de NumPy (Numerical Python) est l’array qui est un tableau.\n",
        "\n",
        "L’array numpy peut être unidimensionnel (vecteur), bidimensionnel (matrice) ou multidimensionnel.\n",
        "\n",
        "Un DataFrame sera construit à partir d’une collection d’array uni-dimensionnels (les variables de la table)\n",
        "\n",
        "Par rapport à une liste,\n",
        "\n",
        "un array ne peut contenir qu’un type de données (integer, string, etc.), contrairement à une liste.\n",
        "les opérations implémentées par numpy seront plus efficaces et demanderont moins de mémoire\n"
      ],
      "metadata": {
        "id": "BoS3r7IL5jfD"
      }
    },
    {
      "cell_type": "markdown",
      "source": [
        "1) Importer Numpy et créer un vecteur \"vecteur\"contenant dans l'ordre  2, 1 et 5"
      ],
      "metadata": {
        "id": "dYNSWwxI6amn"
      }
    },
    {
      "cell_type": "code",
      "execution_count": null,
      "metadata": {
        "id": "7KN6Y0RX10rs"
      },
      "outputs": [],
      "source": []
    },
    {
      "cell_type": "markdown",
      "source": [
        "2) Créer \"vecteur trié\" qui contient les valeur de \"vecteur\" triés par ordre croissant"
      ],
      "metadata": {
        "id": "T91IxOzx7Wpm"
      }
    },
    {
      "cell_type": "code",
      "source": [],
      "metadata": {
        "id": "9B4bLI4N7g6n"
      },
      "execution_count": null,
      "outputs": []
    },
    {
      "cell_type": "markdown",
      "source": [
        "3) recréer \"vecteur\", mais en forçant en int le type des donnés"
      ],
      "metadata": {
        "id": "3xDKXHeM7hPS"
      }
    },
    {
      "cell_type": "code",
      "source": [],
      "metadata": {
        "id": "Ee1e5FUZ8636"
      },
      "execution_count": null,
      "outputs": []
    },
    {
      "cell_type": "markdown",
      "source": [
        "Il existe aussi des méthodes pratiques pour créer des array:\n",
        "\n",
        "séquences logiques : np.arange (suite) ou np.linspace (interpolation linéaire entre deux bornes)\n",
        "\n",
        "séquences ordonnées : array rempli de zéros, de 1 ou d’un nombre désiré : np.zeros, np.ones ou np.full\n",
        "\n",
        "séquences aléatoires : fonctions de génération de nombres aléatoires : np.rand.uniform, np.rand.normal, etc.\n",
        "\n",
        "tableau sous forme de matrice identité : np.eye"
      ],
      "metadata": {
        "id": "5N0FruUn87XB"
      }
    },
    {
      "cell_type": "markdown",
      "source": [
        "4) créer un tableau de trois lignes et 5 colonnes contenant que des flottants égaux à 1"
      ],
      "metadata": {
        "id": "KG5l003t9Vh5"
      }
    },
    {
      "cell_type": "code",
      "source": [],
      "metadata": {
        "id": "WDkhu9Te9isR"
      },
      "execution_count": null,
      "outputs": []
    },
    {
      "cell_type": "markdown",
      "source": [
        "5) Créer x qui est un vecteur contenant la suite des entiers de 0 à 9 inclus :\n",
        "x=[0,1,2,3,4,5,6,7,8,9]"
      ],
      "metadata": {
        "id": "wRRdbUTw-UXk"
      }
    },
    {
      "cell_type": "code",
      "source": [],
      "metadata": {
        "id": "pBGr8s93-zzw"
      },
      "execution_count": null,
      "outputs": []
    },
    {
      "cell_type": "markdown",
      "source": [
        "6) accéder à 4, puis à tous les entiers pairs de x, puis à ceux entre 4 et 8"
      ],
      "metadata": {
        "id": "7VWIhc1T_EUB"
      }
    },
    {
      "cell_type": "markdown",
      "source": [
        "Observer ce qui suit :"
      ],
      "metadata": {
        "id": "dMqaNeLTC1ed"
      }
    },
    {
      "cell_type": "code",
      "source": [
        "import numpy as np\n",
        "x2 = np.array([[-1,1,-2],[-3,2,0]])\n",
        "print(x2)"
      ],
      "metadata": {
        "id": "tA3atb-7_B4F",
        "colab": {
          "base_uri": "https://localhost:8080/"
        },
        "outputId": "cb8dda92-0cf7-4b57-e9bc-5af783a57989"
      },
      "execution_count": null,
      "outputs": [
        {
          "output_type": "stream",
          "name": "stdout",
          "text": [
            "[[-1  1 -2]\n",
            " [-3  2  0]]\n"
          ]
        }
      ]
    },
    {
      "cell_type": "code",
      "source": [
        "print(x2<0)"
      ],
      "metadata": {
        "colab": {
          "base_uri": "https://localhost:8080/"
        },
        "id": "S_wkUMC9C6Yz",
        "outputId": "6d684ae9-f6bd-47e7-86a0-99fcd89a0b29"
      },
      "execution_count": null,
      "outputs": [
        {
          "output_type": "stream",
          "name": "stdout",
          "text": [
            "[[ True False  True]\n",
            " [ True False False]]\n"
          ]
        }
      ]
    },
    {
      "cell_type": "markdown",
      "source": [
        "On définit x comme suit :"
      ],
      "metadata": {
        "id": "R1nrjk1RD57j"
      }
    },
    {
      "cell_type": "code",
      "source": [
        "x = np.random.normal(size=10000)"
      ],
      "metadata": {
        "id": "f7BY0sbSDfHm"
      },
      "execution_count": null,
      "outputs": []
    },
    {
      "cell_type": "markdown",
      "source": [
        "7) Ne conserver dans x1 que les valeurs de x dont la valeur absolue est supérieure à 1.96\n",
        "\n",
        "8) Compter le nombre de valeurs dans x supérieures à 1.96 en valeur absolue et leur proportion dans l’ensemble"
      ],
      "metadata": {
        "id": "m5NtNec9EWEB"
      }
    },
    {
      "cell_type": "code",
      "source": [],
      "metadata": {
        "id": "rrosPcAJT1QD"
      },
      "execution_count": null,
      "outputs": []
    },
    {
      "cell_type": "markdown",
      "source": [
        "# Panda**s**"
      ],
      "metadata": {
        "id": "xwBizY9KN3ot"
      }
    },
    {
      "cell_type": "markdown",
      "source": [
        "On va utiliser un dataset de l'ADEME contenant les émissions de gaz à effet de serre par commune."
      ],
      "metadata": {
        "id": "oqcIBrjvT9p_"
      }
    },
    {
      "cell_type": "code",
      "source": [
        "import pandas as pd\n",
        "chemin_fichier = '/content/sample_data/GES par commune ADEME.csv'\n",
        "GES_ADEME=pd.read_csv(chemin_fichier)\n",
        "#Le data frame s'appelle maintenant GES_ADEME"
      ],
      "metadata": {
        "id": "fcqFPqsXEGMG"
      },
      "execution_count": null,
      "outputs": []
    },
    {
      "cell_type": "markdown",
      "source": [
        "1)Regader les 7 premières observations"
      ],
      "metadata": {
        "id": "qGJDrykTVIAM"
      }
    },
    {
      "cell_type": "markdown",
      "source": [
        "Un dataframe est composé de séries Pandas. Les séries pandas ressemblent aux vecteurs numpy, mais sont plus utile pour faire de la data.\n",
        "\n",
        "Par défaut, les valeurs manquantes sont affichées NaN (ou NaT pour les données temporelles)."
      ],
      "metadata": {
        "id": "NWipHIGpXm3A"
      }
    },
    {
      "cell_type": "markdown",
      "source": [
        "2)Recréer le df suivant (yaourt,..., sont les noms des observations (souvent 1,2,3...))![df courses.jpg](data:image/jpeg;base64,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)"
      ],
      "metadata": {
        "id": "OLjRepuyqxrz"
      }
    },
    {
      "cell_type": "markdown",
      "source": [
        "![df courses.jpg](data:image/jpeg;base64,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)\n",
        "\n",
        "\n",
        "\n"
      ],
      "metadata": {
        "id": "GJU-WtumYe2J"
      }
    },
    {
      "cell_type": "markdown",
      "source": [
        "3) puis ce df :\n",
        "![df courses.jpg](data:image/jpeg;base64,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)"
      ],
      "metadata": {
        "id": "u_pIxhubsepU"
      }
    },
    {
      "cell_type": "markdown",
      "source": [
        "Sommer ces 2 df et observer"
      ],
      "metadata": {
        "id": "vwkKNnAUs2CM"
      }
    },
    {
      "cell_type": "code",
      "source": [],
      "metadata": {
        "id": "nx2G5Yk_s1W2"
      },
      "execution_count": null,
      "outputs": []
    },
    {
      "cell_type": "markdown",
      "source": [
        "faire la commande qui supprime les lignes avec des NaN\n",
        "\n",
        "puis faire la commande qui supprime les colonnes avec des NaN;"
      ],
      "metadata": {
        "id": "PE1J3asj81I4"
      }
    },
    {
      "cell_type": "code",
      "source": [],
      "metadata": {
        "id": "JD8SFGRA-Meb"
      },
      "execution_count": null,
      "outputs": []
    },
    {
      "cell_type": "markdown",
      "source": [
        "Obtenir le nombre de variable, et le nombre d'observations dans GES_ADEME"
      ],
      "metadata": {
        "id": "WBIlskNQ-J2W"
      }
    },
    {
      "cell_type": "code",
      "source": [],
      "metadata": {
        "id": "_maUz5zY-oz-"
      },
      "execution_count": null,
      "outputs": []
    },
    {
      "cell_type": "markdown",
      "source": [
        "Obtenir le nombre de communes différentes dans GES_ADEME"
      ],
      "metadata": {
        "id": "KbX6lMi3-n1A"
      }
    },
    {
      "cell_type": "code",
      "source": [],
      "metadata": {
        "id": "zL4OSoNk-p4I"
      },
      "execution_count": null,
      "outputs": []
    },
    {
      "cell_type": "markdown",
      "source": [
        "Obtenir les noms des colonnes"
      ],
      "metadata": {
        "id": "p5NNtWWX_L03"
      }
    },
    {
      "cell_type": "code",
      "source": [],
      "metadata": {
        "id": "bDG4GyIa-pEB"
      },
      "execution_count": null,
      "outputs": []
    },
    {
      "cell_type": "markdown",
      "source": [
        "Obtenir un tableau de statistiques sur les colonnes"
      ],
      "metadata": {
        "id": "tga4UTcL_QPa"
      }
    },
    {
      "cell_type": "code",
      "source": [],
      "metadata": {
        "id": "viHOld9gAIB0"
      },
      "execution_count": null,
      "outputs": []
    },
    {
      "cell_type": "markdown",
      "source": [
        "Obtenir pour chaque colonne le nombre de valeur manquante"
      ],
      "metadata": {
        "id": "nfJB1ZqXDKfy"
      }
    },
    {
      "cell_type": "code",
      "source": [],
      "metadata": {
        "id": "8hcAqy3KAah1"
      },
      "execution_count": null,
      "outputs": []
    },
    {
      "cell_type": "markdown",
      "source": [
        "Remplacer tout les NaN de Autres transports international par des 0"
      ],
      "metadata": {
        "id": "QJnr7h649IbX"
      }
    },
    {
      "cell_type": "code",
      "source": [],
      "metadata": {
        "id": "HYsvl7UL9KPR"
      },
      "execution_count": null,
      "outputs": []
    },
    {
      "cell_type": "markdown",
      "source": [
        "Faire un print de la variable Commune (pour réviser comment sélectionner une colonne)"
      ],
      "metadata": {
        "id": "r1OvcShIDcno"
      }
    },
    {
      "cell_type": "code",
      "source": [],
      "metadata": {
        "id": "i212l474DwtW"
      },
      "execution_count": null,
      "outputs": []
    },
    {
      "cell_type": "markdown",
      "source": [
        "Faire un print de la première ligne (pour réviser comment sélectionner une ligne)"
      ],
      "metadata": {
        "id": "rIA7lLr5DLx1"
      }
    },
    {
      "cell_type": "code",
      "source": [],
      "metadata": {
        "id": "PIPRO4ntGrmE"
      },
      "execution_count": null,
      "outputs": []
    },
    {
      "cell_type": "markdown",
      "source": [
        "ajouter au data frame une variable x = au log de Agriculture"
      ],
      "metadata": {
        "id": "Pismi9qgEBVq"
      }
    },
    {
      "cell_type": "code",
      "source": [],
      "metadata": {
        "id": "hs_sfm5QGp_A"
      },
      "execution_count": null,
      "outputs": []
    },
    {
      "cell_type": "markdown",
      "source": [
        "Obtenir le dataframe GES_ADEME avec restreint aux lignes comportant une valeur d'Agriculture > 2000"
      ],
      "metadata": {
        "id": "8JVMFzHsIL3l"
      }
    },
    {
      "cell_type": "markdown",
      "source": [
        "syntaxe pour sélectionner plusieurs colonnes par leur nom (SELECT en SQL)\n",
        "\n",
        "syntaxe pour joindre le df table1  avec tabl2 sur la variable x (JOIN ON en SQL)"
      ],
      "metadata": {
        "id": "vQ8RxE0pF-rW"
      }
    },
    {
      "cell_type": "code",
      "source": [],
      "metadata": {
        "id": "Yzj0VHWyEAnu"
      },
      "execution_count": null,
      "outputs": []
    },
    {
      "cell_type": "markdown",
      "source": [
        "Classer le df par ordre décroissant de consommation de CO2 du secteur résidentiel"
      ],
      "metadata": {
        "id": "WoWO4QdpIrSa"
      }
    },
    {
      "cell_type": "code",
      "source": [],
      "metadata": {
        "id": "cTJr6mJsLDLj"
      },
      "execution_count": null,
      "outputs": []
    },
    {
      "cell_type": "markdown",
      "source": [
        "print du dataset avec seulement les villes dont le nom a plus de 40 caractères."
      ],
      "metadata": {
        "id": "fjiuo-PLLELI"
      }
    },
    {
      "cell_type": "markdown",
      "source": [
        "#Données spatiale"
      ],
      "metadata": {
        "id": "MdGQTpt5NSp8"
      }
    },
    {
      "cell_type": "markdown",
      "source": [
        "# Web Scraping"
      ],
      "metadata": {
        "id": "XfWygQdzNY7Y"
      }
    },
    {
      "cell_type": "code",
      "source": [],
      "metadata": {
        "id": "3M1njrGnOIxY"
      },
      "execution_count": null,
      "outputs": []
    },
    {
      "cell_type": "markdown",
      "source": [
        "# API"
      ],
      "metadata": {
        "id": "yI2jBMOiOH46"
      }
    },
    {
      "cell_type": "markdown",
      "source": [
        "# Graphes"
      ],
      "metadata": {
        "id": "temgNNDwOKih"
      }
    },
    {
      "cell_type": "markdown",
      "source": [
        "En data, on évite les graphes camemberts (il a été prouvé qu'ils étaient mal percus par les humains)."
      ],
      "metadata": {
        "id": "G7tQtZ2fQndM"
      }
    },
    {
      "cell_type": "markdown",
      "source": [
        "code pour faire l'histogramme (valeur numériques) d'un df"
      ],
      "metadata": {
        "id": "pkw9CV_DP9jq"
      }
    },
    {
      "cell_type": "code",
      "source": [],
      "metadata": {
        "id": "N5CAi1eDNnHz"
      },
      "execution_count": null,
      "outputs": []
    },
    {
      "cell_type": "markdown",
      "source": [
        "# ML"
      ],
      "metadata": {
        "id": "mmT2qL2VQrpp"
      }
    },
    {
      "cell_type": "markdown",
      "source": [
        "Renommer X GES_ADEME.\n",
        "ajouter une colonne y = à la somme de toutes les colonnes sauf INSEE commune et Comunne\n",
        "séparer y de X (y est notre target)"
      ],
      "metadata": {
        "id": "_FA_qE91OC_Y"
      }
    },
    {
      "cell_type": "code",
      "source": [],
      "metadata": {
        "id": "clENsrYFN7DP"
      },
      "execution_count": null,
      "outputs": []
    },
    {
      "cell_type": "markdown",
      "source": [
        "On va passer à une classification : faire en sorte que y = 0 si ancien y < 1900. y sinon"
      ],
      "metadata": {
        "id": "sOlam3PcQEWq"
      }
    },
    {
      "cell_type": "code",
      "source": [],
      "metadata": {
        "id": "Pe7z-u_HQDrC"
      },
      "execution_count": null,
      "outputs": []
    },
    {
      "cell_type": "markdown",
      "source": [
        "Représenter avec un bar chart la répartition de y"
      ],
      "metadata": {
        "id": "84auA_OZP4bM"
      }
    },
    {
      "cell_type": "code",
      "source": [],
      "metadata": {
        "id": "ncQdYpCTP4_q"
      },
      "execution_count": null,
      "outputs": []
    },
    {
      "cell_type": "markdown",
      "source": [
        "Diviser le dataset en un jeu d'entrainement (80% des données, et un jeu de validation (20% des données)"
      ],
      "metadata": {
        "id": "2kFagMkxPGpn"
      }
    },
    {
      "cell_type": "code",
      "source": [],
      "metadata": {
        "id": "x4IXLCTVPY9s"
      },
      "execution_count": null,
      "outputs": []
    },
    {
      "cell_type": "markdown",
      "source": [
        "Regrouper dans num_features les noms des colonnes numériques, et dans cat_features ceux des colonnes catégorielles."
      ],
      "metadata": {
        "id": "KvzMPDd9SHgt"
      }
    },
    {
      "cell_type": "code",
      "source": [],
      "metadata": {
        "id": "HR12wxLfSIKC"
      },
      "execution_count": null,
      "outputs": []
    },
    {
      "cell_type": "markdown",
      "source": [
        "écrire une pipeline pour préparer les données numériques"
      ],
      "metadata": {
        "id": "kBfuwfykRn68"
      }
    },
    {
      "cell_type": "code",
      "source": [],
      "metadata": {
        "id": "SzZ48d8fRop4"
      },
      "execution_count": null,
      "outputs": []
    },
    {
      "cell_type": "markdown",
      "source": [
        "écrire une pipeline pour préparer les données numériques"
      ],
      "metadata": {
        "id": "HGE5kr3CPZXd"
      }
    },
    {
      "cell_type": "code",
      "source": [],
      "metadata": {
        "id": "uEe39pMqR26c"
      },
      "execution_count": null,
      "outputs": []
    },
    {
      "cell_type": "markdown",
      "source": [
        "Faire un transformer qui s'appelera prepocessor qui appliquera ces deux pipelines aux bonnes données."
      ],
      "metadata": {
        "id": "ka3dLI3iSZUp"
      }
    },
    {
      "cell_type": "code",
      "source": [],
      "metadata": {
        "id": "xbuTn50HSZqR"
      },
      "execution_count": null,
      "outputs": []
    },
    {
      "cell_type": "markdown",
      "source": [
        "Faire une pipeline pour un modéle Random Forest"
      ],
      "metadata": {
        "id": "mbGSVFItSsBi"
      }
    },
    {
      "cell_type": "code",
      "source": [],
      "metadata": {
        "id": "YnnmuxORSsaD"
      },
      "execution_count": null,
      "outputs": []
    },
    {
      "cell_type": "markdown",
      "source": [
        "Obtenir le recall sur le jeu d'entrainement par cross validation pour cette pipeline KNN"
      ],
      "metadata": {
        "id": "zCs3-aOpTLNo"
      }
    },
    {
      "cell_type": "code",
      "source": [],
      "metadata": {
        "id": "KabCbp8ITL4S"
      },
      "execution_count": null,
      "outputs": []
    },
    {
      "cell_type": "markdown",
      "source": [
        "Obtenir X_train prépocédé"
      ],
      "metadata": {
        "id": "C4ZTG4ZITWgS"
      }
    },
    {
      "cell_type": "markdown",
      "source": [
        "Obtenir la meilleur combinaison de paramètres entre n_estimators (10 ou 50) et max_depth (None ou 10)"
      ],
      "metadata": {
        "id": "KSrFkgvHVTFO"
      }
    },
    {
      "cell_type": "code",
      "source": [],
      "metadata": {
        "id": "7EFDwie7VppY"
      },
      "execution_count": null,
      "outputs": []
    },
    {
      "cell_type": "markdown",
      "source": [
        "Obtenir la pipeline finale, la fiter sur le jeu d'entrainement, et obtenir le recall sur le jeu de validation."
      ],
      "metadata": {
        "id": "ONUWul11WBPR"
      }
    },
    {
      "cell_type": "code",
      "source": [],
      "metadata": {
        "id": "3-skhv3wWBna"
      },
      "execution_count": null,
      "outputs": []
    }
  ]
}